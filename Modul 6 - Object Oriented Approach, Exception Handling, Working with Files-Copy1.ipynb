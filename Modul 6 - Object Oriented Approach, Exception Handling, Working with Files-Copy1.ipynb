{
 "cells": [
  {
   "cell_type": "markdown",
   "metadata": {},
   "source": [
    "# Introduction to OOPs in Python\n",
    "\n",
    "source: https://www.programiz.com/python-programming/object-oriented-programming\n",
    "\n",
    "Python itu adalah sebuah bahasa pemrograman multi purpose dan multi paradigm, artinya python dapat men support berbagai pendekatan pemrograman.\n",
    "\n",
    "Salah satu pendekatan yang populer, adalah Object Oriented Programming, atau pemrograman berorientasi objek. Nah selama ini, kita sebetulnya menggunakan pendekatan pemrograman prosedural. Bagaimana perbedaan antara paradigma pemrograman prosedural dengan yang berbasis objek?\n",
    "\n",
    "Sebelumnya kita membahasa dulu apa itu objek. Jadi, objek itu memiliki dua karakteristik.\n",
    "\n",
    "1. attributes\n",
    "2. behavior\n",
    "\n",
    "Mari kita lihat contohnya:\n",
    "\n",
    "Parrot (burung beo) adalah sebuah objek,\n",
    "\n",
    "name, age, color (nama, usia, warna) adalah atributnya\n",
    "singing, dancing (menyanyi, menari) adalah behavior nya\n",
    "\n",
    "Konsep dari OOP dalam python ini berfokus dalam pembuatan kode yang reusable (dapat digunakan kembali). Konsep ini juga dikenal dengan DRY (Don't Repeat Yourself).\n",
    "\n",
    "Dalam python, konsep OOP memiliki beberapa prinsip dasar:\n",
    "\n",
    "| Sifat   | Deskripsi   |\n",
    "|---------------|---------------------------------------------------------------------------------|\n",
    "| Inheritance   | Proses dalam menggunakan atribut dan behaviour dari class yang telah ada sebelumnya.   |\n",
    "| Encapsulation | Menyembunyikan atribut dan behavior yang bersifat private dari kelas lainnya.                       |\n",
    "| Polymorphism  | Sebuah konsep untuk menggunakan operasi yang sama dengan cara yang berbeda pada kelas lain. |\n",
    "\n",
    "Konsep ini akan terlihat lebih mudah dalam prakteknya nanti"
   ]
  },
  {
   "cell_type": "markdown",
   "metadata": {},
   "source": [
    "# Class\n",
    "\n",
    "Class adalah sebuah blueprint untuk objek.\n",
    "\n",
    "Kalau kita berbicara mengenai parrot (burung beo), blueprint atau desainnya, parrot tersebut akan memiliki nama, warna, ukuran, dll. Parrot juga nantinya bisa singing dan dancing. Oleh karena itu kita bisa membuat parrot menjadi sebuah kelas.\n",
    "\n",
    "Untuk membuat kelas parrot yang sederhana kita bisa menuliskan kode berikut :\n",
    "\n",
    "```python\n",
    "class Parrot:\n",
    "```\n",
    "\n",
    "Kata kunci `class` diikuti dengan `Parrot` mendefinisikan blueprint dari class parrot. Blueprint ini nantinya akan di realisasikan dalam sebuah instance.\n"
   ]
  },
  {
   "cell_type": "markdown",
   "metadata": {},
   "source": [
    "# Object / Instance\n",
    "\n",
    "Sebuah objek (instance) adalah perwujudan dari sebuah class.\n",
    "\n",
    "Contoh dari membuat sebuah objek (instance) adalah sebagai berikut:\n",
    "```python\n",
    "papi = Parrot()\n",
    "```\n",
    "\n",
    "Disini, `papi` adalah perwujudan `Parrot`\n",
    "\n",
    "Sekarang coba kita lihat kode lengkap dari pembuatan objek dan class"
   ]
  },
  {
   "cell_type": "code",
   "execution_count": 1,
   "metadata": {},
   "outputs": [
    {
     "name": "stdout",
     "output_type": "stream",
     "text": [
      "0\n"
     ]
    }
   ],
   "source": [
    "class Stack:\n",
    "    def __init__(self):\n",
    "        self.stackList = []\n",
    "\n",
    "stackObject = Stack()\n",
    "print(len(stackObject.stackList))"
   ]
  },
  {
   "cell_type": "markdown",
   "metadata": {},
   "source": [
    "### print(\"h\")"
   ]
  },
  {
   "cell_type": "markdown",
   "metadata": {},
   "source": [
    "### Membuat Privat"
   ]
  },
  {
   "cell_type": "code",
   "execution_count": 50,
   "metadata": {},
   "outputs": [
    {
     "ename": "AttributeError",
     "evalue": "'Stack' object has no attribute '__stackList'",
     "output_type": "error",
     "traceback": [
      "\u001b[1;31m---------------------------------------------------------------------------\u001b[0m",
      "\u001b[1;31mAttributeError\u001b[0m                            Traceback (most recent call last)",
      "\u001b[1;32m<ipython-input-50-9e3b7dedea00>\u001b[0m in \u001b[0;36m<module>\u001b[1;34m\u001b[0m\n\u001b[0;32m      4\u001b[0m \u001b[1;33m\u001b[0m\u001b[0m\n\u001b[0;32m      5\u001b[0m \u001b[0mstackObject\u001b[0m \u001b[1;33m=\u001b[0m \u001b[0mStack\u001b[0m\u001b[1;33m(\u001b[0m\u001b[1;33m)\u001b[0m\u001b[1;33m\u001b[0m\u001b[1;33m\u001b[0m\u001b[0m\n\u001b[1;32m----> 6\u001b[1;33m \u001b[0mprint\u001b[0m\u001b[1;33m(\u001b[0m\u001b[0mlen\u001b[0m\u001b[1;33m(\u001b[0m\u001b[0mstackObject\u001b[0m\u001b[1;33m.\u001b[0m\u001b[0m__stackList\u001b[0m\u001b[1;33m)\u001b[0m\u001b[1;33m)\u001b[0m\u001b[1;33m\u001b[0m\u001b[1;33m\u001b[0m\u001b[0m\n\u001b[0m",
      "\u001b[1;31mAttributeError\u001b[0m: 'Stack' object has no attribute '__stackList'"
     ]
    }
   ],
   "source": [
    "class Stack:\n",
    "    def __init__(self):\n",
    "        self.__stackList = []\n",
    "\n",
    "stackObject = Stack()\n",
    "print(len(stackObject.__stackList))"
   ]
  },
  {
   "cell_type": "code",
   "execution_count": 3,
   "metadata": {},
   "outputs": [
    {
     "name": "stdout",
     "output_type": "stream",
     "text": [
      "1\n",
      "2\n",
      "3\n"
     ]
    }
   ],
   "source": [
    "class Stack:\n",
    "    def __init__(self):\n",
    "        self.__stackList = []\n",
    "\n",
    "    def push(self, val):\n",
    "        self.__stackList.append(val)\n",
    "\n",
    "    def pop(self):\n",
    "        val = self.__stackList[-1]\n",
    "        del self.__stackList[-1]\n",
    "        return val\n",
    "\n",
    "\n",
    "stackObject = Stack()\n",
    "\n",
    "stackObject.push(3)\n",
    "stackObject.push(2)\n",
    "stackObject.push(1)\n",
    "\n",
    "print(stackObject.pop())\n",
    "print(stackObject.pop())\n",
    "print(stackObject.pop())"
   ]
  },
  {
   "cell_type": "code",
   "execution_count": 39,
   "metadata": {},
   "outputs": [
    {
     "name": "stdout",
     "output_type": "stream",
     "text": [
      "Papi is a bird\n",
      "Greeny is also a bird\n",
      "Papi is 3 years old\n",
      "Greeny is 5 years old\n"
     ]
    }
   ],
   "source": [
    "class Parrot:\n",
    "\n",
    "    # class attribute\n",
    "    species = \"bird\"\n",
    "\n",
    "    # instance attribute\n",
    "    # constructor\n",
    "    def __init__(self, name, age):\n",
    "        self.name = name\n",
    "        self.age = age\n",
    "\n",
    "# instantiate the Parrot class\n",
    "papi = Parrot(\"Papi\", 3)\n",
    "greeny = Parrot(\"Greeny\", 5)\n",
    "\n",
    "# access the class attributes\n",
    "print(\"Papi is a \" + papi.species)\n",
    "print(\"Greeny is also a \" + greeny.species)\n",
    "\n",
    "# access the instance attributes\n",
    "print(papi.name + \" is \" + str(papi.age) + \" years old\")\n",
    "print(greeny.name + \" is \" + str(greeny.age) + \" years old\")"
   ]
  },
  {
   "cell_type": "markdown",
   "metadata": {},
   "source": [
    "Dalam program diatas, kita baru saja membuat class dengan nama `Parrot`. Kemudian, kita mendifinisikan atribut dari parrot yaitu `name` dan `age`. Atribut merupakan karakteristik dari objek.\n",
    "\n",
    "Kemudian, kita membuat instance, atau realisasi, atau perwujudan dari class `Parrot`. Disini `papi` dan `greeny` adalah instance-nya.\n",
    "\n",
    "Kemudian, kita dapat mengakses atributnya melalui instance dengan diikuti tanda `.`"
   ]
  },
  {
   "cell_type": "markdown",
   "metadata": {},
   "source": [
    "# Methods\n",
    "\n",
    "Methods adalah function yang didefinisikan dalam sebuah class. Function ini seharusnya mendefinisikan behavior dari objeknya."
   ]
  },
  {
   "cell_type": "code",
   "execution_count": 23,
   "metadata": {},
   "outputs": [
    {
     "name": "stdout",
     "output_type": "stream",
     "text": [
      "3\n"
     ]
    }
   ],
   "source": [
    "class Stack:\n",
    "    #__init__ ini constructor, ditandai dengan dobel __ depan eblakang\n",
    "    def __init__(self):\n",
    "        self.__stackList = []\n",
    "\n",
    "    def push(self, val):\n",
    "        self.__stackList.append(val)\n",
    "\n",
    "    def pop(self):\n",
    "        val = self.__stackList[-1]\n",
    "        del self.__stackList[-1]\n",
    "        return val\n",
    "\n",
    "\n",
    "stackObject1 = Stack()\n",
    "stackObject2 = Stack()\n",
    "\n",
    "stackObject1.push(3)\n",
    "stackObject2.push(stackObject1.pop())\n",
    "\n",
    "print(stackObject2.pop())"
   ]
  },
  {
   "cell_type": "code",
   "execution_count": 40,
   "metadata": {},
   "outputs": [
    {
     "name": "stdout",
     "output_type": "stream",
     "text": [
      "Papi sings 'Happy'\n",
      "Papi is now dancing\n",
      "Mami sings slukus2\n"
     ]
    }
   ],
   "source": [
    "class Parrot:\n",
    "    \n",
    "    # instance attributes\n",
    "    def __init__(self, name, age):\n",
    "        self.name = name\n",
    "        self.age = age\n",
    "    \n",
    "    # instance method\n",
    "    def sing(self, song):\n",
    "        return \"{} sings {}\".format(self.name, song)\n",
    "\n",
    "    def dance(self):\n",
    "        return \"{} is now dancing\".format(self.name)\n",
    "\n",
    "# instantiate the object\n",
    "papi = Parrot(\"Papi\", 10)\n",
    "mami = Parrot(\"Mami\",12)\n",
    "\n",
    "# call our instance methods\n",
    "print(papi.sing(\"'Happy'\"))\n",
    "print(papi.dance())\n",
    "\n",
    "print(mami.sing(\"slukus2\"))\n"
   ]
  },
  {
   "cell_type": "markdown",
   "metadata": {},
   "source": [
    "Dalam program diatas, kita mendefinisikan dua method yaitu `sing` dan `dance`. Mereka adalah `instance method` yang dipanggil pada instance objek yaitu `papi`."
   ]
  },
  {
   "cell_type": "markdown",
   "metadata": {},
   "source": [
    "# Inheritance / Pewarisan\n",
    "\n",
    "Inheritance adalah sebuah cara untuk membuat class baru dengan menggunakan detail dari kelas lainnya. Kelas yang baru ini akan mewariskan atribut serta method yang sudah didefinisikan dari class utamanya. Kelas yang baru ini sering disebut dengan `child class` dan kelas yang digunakan detailnya sering disebut sebagai `parent class`.\n",
    "\n"
   ]
  },
  {
   "cell_type": "code",
   "execution_count": null,
   "metadata": {},
   "outputs": [],
   "source": [
    "class Stack:\n",
    "    def __init__(self):\n",
    "        self.__stackList = []\n",
    "\n",
    "    def push(self, val):\n",
    "        self.__stackList.append(val)\n",
    "\n",
    "    def pop(self):\n",
    "        val = self.__stackList[-1]\n",
    "        del self.__stackList[-1]\n",
    "        return val\n",
    "\n",
    "class AddingStack(Stack):\n",
    "    def __init__(self):\n",
    "        Stack.__init__(self) #invoke superclass untuk bikin instance stack\n",
    "        self.__sum = 0 #balik lagi, simpan hasil penjumlahan disni nanti"
   ]
  },
  {
   "cell_type": "code",
   "execution_count": 12,
   "metadata": {},
   "outputs": [
    {
     "name": "stdout",
     "output_type": "stream",
     "text": [
      "10\n",
      "4\n",
      "3\n",
      "2\n",
      "1\n",
      "0\n"
     ]
    }
   ],
   "source": [
    "class Stack:\n",
    "    def __init__(self):\n",
    "        self.__stackList = []\n",
    "\n",
    "    def push(self, val):\n",
    "        self.__stackList.append(val)\n",
    "\n",
    "    def pop(self):\n",
    "        val = self.__stackList[-1]\n",
    "        del self.__stackList[-1]\n",
    "        return val\n",
    "\n",
    "\n",
    "class AddingStack(Stack):\n",
    "    def __init__(self):\n",
    "        Stack.__init__(self)\n",
    "        self.__sum = 0\n",
    "\n",
    "    def getSum(self):\n",
    "        return self.__sum\n",
    "\n",
    "    def push(self, val):\n",
    "        self.__sum += val\n",
    "        Stack.push(self, val)\n",
    "\n",
    "    def pop(self):\n",
    "        val = Stack.pop(self)\n",
    "        self.__sum -= val\n",
    "        return val\n",
    "\n",
    "\n",
    "stackObject = AddingStack()\n",
    "\n",
    "for i in range(5):\n",
    "    stackObject.push(i)\n",
    "print(stackObject.getSum())\n",
    "\n",
    "for i in range(5):\n",
    "    print(stackObject.pop())"
   ]
  },
  {
   "cell_type": "code",
   "execution_count": 51,
   "metadata": {},
   "outputs": [
    {
     "name": "stdout",
     "output_type": "stream",
     "text": [
      "Bird is ready\n",
      "Bird\n",
      "\n",
      "Bird is ready\n",
      "Penguin is ready\n",
      "Penguin\n",
      "Swim faster\n",
      "Run faster\n"
     ]
    },
    {
     "ename": "AttributeError",
     "evalue": "'Bird' object has no attribute 'run'",
     "output_type": "error",
     "traceback": [
      "\u001b[1;31m---------------------------------------------------------------------------\u001b[0m",
      "\u001b[1;31mAttributeError\u001b[0m                            Traceback (most recent call last)",
      "\u001b[1;32m<ipython-input-51-ab90c7432d5e>\u001b[0m in \u001b[0;36m<module>\u001b[1;34m\u001b[0m\n\u001b[0;32m     33\u001b[0m \u001b[0mpeggy\u001b[0m\u001b[1;33m.\u001b[0m\u001b[0mrun\u001b[0m\u001b[1;33m(\u001b[0m\u001b[1;33m)\u001b[0m\u001b[1;33m\u001b[0m\u001b[1;33m\u001b[0m\u001b[0m\n\u001b[0;32m     34\u001b[0m \u001b[1;33m\u001b[0m\u001b[0m\n\u001b[1;32m---> 35\u001b[1;33m \u001b[0mGoldi\u001b[0m\u001b[1;33m.\u001b[0m\u001b[0mrun\u001b[0m\u001b[1;33m(\u001b[0m\u001b[1;33m)\u001b[0m\u001b[1;33m\u001b[0m\u001b[1;33m\u001b[0m\u001b[0m\n\u001b[0m",
      "\u001b[1;31mAttributeError\u001b[0m: 'Bird' object has no attribute 'run'"
     ]
    }
   ],
   "source": [
    "# parent/super class\n",
    "class Bird:\n",
    "    \n",
    "    def __init__(self):\n",
    "        print(\"Bird is ready\")\n",
    "\n",
    "    def whoisThis(self):\n",
    "        print(\"Bird\")\n",
    "\n",
    "    def swim(self):\n",
    "        print(\"Swim faster\")\n",
    "\n",
    "# child class\n",
    "class Penguin(Bird):\n",
    "\n",
    "    def __init__(self):\n",
    "        # call super() function\n",
    "        super().__init__() #beda cara construt\n",
    "        print(\"Penguin is ready\")\n",
    "\n",
    "    def whoisThis(self):\n",
    "        print(\"Penguin\")\n",
    "\n",
    "    def run(self):\n",
    "        print(\"Run faster\")\n",
    "\n",
    "Goldi= Bird()\n",
    "Goldi.swim()\n",
    "print(\"\")\n",
    "peggy = Penguin()\n",
    "peggy.whoisThis()\n",
    "peggy.swim()\n",
    "peggy.run()\n",
    "\n",
    "Goldi.run()\n"
   ]
  },
  {
   "cell_type": "markdown",
   "metadata": {},
   "source": [
    "Hal penting yang dapat diperhatikan:\n",
    "- Bird adalah parent class dari Penguin dengan sintaks `Penguin(Bird)`. Relasi pewarisan ini harus di validasi dengan hubungan \"is a\". Contohnya Penguin is a Bird merupakan valid karena Penguin adalah termasuk Bird.\n",
    "- `super().__init__()` memanggil konstruktor dari kelas parent nya\n",
    "- method `whoisThis()` yang ditulis ulang di `Penguin` akan menimpa atau override method yang sudah ada di parent class (`Bird`).\n",
    "- method swim dapat dipanggil oleh instance dari `Penguin` karena `Penguin` sudah mewarisi seluruh method yang ada pada kelas `Bird`."
   ]
  },
  {
   "cell_type": "markdown",
   "metadata": {},
   "source": [
    "### Instance Variabel \n",
    "\n",
    "setiap objek bisa punya atribut beda2..."
   ]
  },
  {
   "cell_type": "code",
   "execution_count": 20,
   "metadata": {},
   "outputs": [
    {
     "name": "stdout",
     "output_type": "stream",
     "text": [
      "{'first': 1}\n",
      "{'first': 2, 'second': 3}\n",
      "{'first': 4, 'third': 5}\n"
     ]
    }
   ],
   "source": [
    "class ExampleClass:\n",
    "    def __init__(self, val = 1):\n",
    "        self.first = val\n",
    "\n",
    "    def setSecond(self, val):\n",
    "        self.second = val\n",
    "\n",
    "\n",
    "exampleObject1 = ExampleClass()  # objek 1 hanya invoke constructor __init___, val =1\n",
    "\n",
    "exampleObject2 = ExampleClass(2) # objek 2 invoke contructor dgn argument= 2 ke var first\n",
    "exampleObject2.setSecond(3)  # objek 2 invoke setSecond dgn argument= 3 ke var second\n",
    "\n",
    "exampleObject3 = ExampleClass(4) # objek 3 invoke contructor dgn argument= 4 ke var first\n",
    "exampleObject3.third = 5 # objek 3 MENAMBAHKAN atribut \"third\"=5 (ini diluar kelas)\n",
    "\n",
    "\n",
    "print(exampleObject1.__dict__)\n",
    "print(exampleObject2.__dict__)\n",
    "print(exampleObject3.__dict__)"
   ]
  },
  {
   "cell_type": "markdown",
   "metadata": {},
   "source": [
    "# Encapsulation\n",
    "\n",
    "Kita dapat membatasi akses atribut dan method dalam sebuah kelas dengan memanfaatkan sifat private yang di definisikan dengan garis bawah atau underscore single `_` atau double `__`\n"
   ]
  },
  {
   "cell_type": "markdown",
   "metadata": {},
   "source": [
    "# CONTOH DARI NETACAD"
   ]
  },
  {
   "cell_type": "markdown",
   "metadata": {},
   "source": [
    "<img src=\"images/stack.PNG\" width=200 />\n",
    "\n",
    "Lihat kode dengan paradigma prosedural berikut:"
   ]
  },
  {
   "cell_type": "code",
   "execution_count": 85,
   "metadata": {},
   "outputs": [
    {
     "name": "stdout",
     "output_type": "stream",
     "text": [
      "1\n",
      "2\n",
      "3\n"
     ]
    }
   ],
   "source": [
    "stack = []\n",
    "\n",
    "def push(val):\n",
    "    stack.append(val)\n",
    "\n",
    "\n",
    "def pop():\n",
    "    val = stack[-1]\n",
    "    del stack[-1]\n",
    "    return val\n",
    "\n",
    "push(3)\n",
    "push(2)\n",
    "push(1)\n",
    "\n",
    "print(pop())\n",
    "print(pop())\n",
    "print(pop())"
   ]
  },
  {
   "cell_type": "markdown",
   "metadata": {},
   "source": [
    "### Pertama buat atributnya"
   ]
  },
  {
   "cell_type": "code",
   "execution_count": 53,
   "metadata": {},
   "outputs": [
    {
     "name": "stdout",
     "output_type": "stream",
     "text": [
      "0\n"
     ]
    }
   ],
   "source": [
    "class Stack:\n",
    "    def __init__(self):\n",
    "        self.stackList = []\n",
    "\n",
    "stackObject = Stack()\n",
    "print(len(stackObject.stackList))"
   ]
  },
  {
   "cell_type": "markdown",
   "metadata": {},
   "source": [
    "### Kemudian ubah atributnya menjadi private"
   ]
  },
  {
   "cell_type": "code",
   "execution_count": 52,
   "metadata": {},
   "outputs": [
    {
     "ename": "AttributeError",
     "evalue": "'Stack' object has no attribute '__stackList'",
     "output_type": "error",
     "traceback": [
      "\u001b[1;31m---------------------------------------------------------------------------\u001b[0m",
      "\u001b[1;31mAttributeError\u001b[0m                            Traceback (most recent call last)",
      "\u001b[1;32m<ipython-input-52-8e5050a101d4>\u001b[0m in \u001b[0;36m<module>\u001b[1;34m\u001b[0m\n\u001b[0;32m      4\u001b[0m \u001b[1;33m\u001b[0m\u001b[0m\n\u001b[0;32m      5\u001b[0m \u001b[0mstackObject\u001b[0m \u001b[1;33m=\u001b[0m \u001b[0mStack\u001b[0m\u001b[1;33m(\u001b[0m\u001b[1;33m)\u001b[0m\u001b[1;33m\u001b[0m\u001b[1;33m\u001b[0m\u001b[0m\n\u001b[1;32m----> 6\u001b[1;33m \u001b[0mprint\u001b[0m\u001b[1;33m(\u001b[0m\u001b[0mlen\u001b[0m\u001b[1;33m(\u001b[0m\u001b[0mstackObject\u001b[0m\u001b[1;33m.\u001b[0m\u001b[0m__stackList\u001b[0m\u001b[1;33m)\u001b[0m\u001b[1;33m)\u001b[0m\u001b[1;33m\u001b[0m\u001b[1;33m\u001b[0m\u001b[0m\n\u001b[0m",
      "\u001b[1;31mAttributeError\u001b[0m: 'Stack' object has no attribute '__stackList'"
     ]
    }
   ],
   "source": [
    "class Stack:\n",
    "    def __init__(self):\n",
    "        self.__stackList = [] # __ membuat private\n",
    "\n",
    "stackObject = Stack()\n",
    "print(len(stackObject.__stackList))"
   ]
  },
  {
   "cell_type": "markdown",
   "metadata": {},
   "source": [
    "### Tambahkan method push dan pop nya"
   ]
  },
  {
   "cell_type": "code",
   "execution_count": null,
   "metadata": {},
   "outputs": [],
   "source": [
    "class Stack:\n",
    "    def __init__(self):\n",
    "        self.__stackList = []\n",
    "\n",
    "    def push(self, val):\n",
    "        self.__stackList.append(val)\n",
    "\n",
    "    def pop(self):\n",
    "        val = self.__stackList[-1]\n",
    "        del self.__stackList[-1]\n",
    "        return val\n",
    "\n",
    "\n",
    "stackObject = Stack()\n",
    "\n",
    "stackObject.push(3)\n",
    "stackObject.push(2)\n",
    "stackObject.push(1)\n",
    "\n",
    "print(stackObject.pop())\n",
    "print(stackObject.pop())\n",
    "print(stackObject.pop())"
   ]
  },
  {
   "cell_type": "markdown",
   "metadata": {},
   "source": [
    "### Contoh dengan beberapa Instance"
   ]
  },
  {
   "cell_type": "code",
   "execution_count": null,
   "metadata": {},
   "outputs": [],
   "source": [
    "class Stack:\n",
    "    def __init__(self):\n",
    "        self.__stackList = []\n",
    "\n",
    "    def push(self, val):\n",
    "        self.__stackList.append(val)\n",
    "\n",
    "    def pop(self):\n",
    "        val = self.__stackList[-1]\n",
    "        del self.__stackList[-1]\n",
    "        return val\n",
    "\n",
    "littleStack = Stack()\n",
    "anotherStack = Stack()\n",
    "funnyStack = Stack()\n",
    "\n",
    "littleStack.push(1)\n",
    "anotherStack.push(littleStack.pop() + 1)\n",
    "funnyStack.push(anotherStack.pop() - 2)\n",
    "\n",
    "print(funnyStack.pop())"
   ]
  },
  {
   "cell_type": "markdown",
   "metadata": {},
   "source": [
    "### Inheritance"
   ]
  },
  {
   "cell_type": "code",
   "execution_count": null,
   "metadata": {},
   "outputs": [],
   "source": [
    "class Stack:\n",
    "    def __init__(self):\n",
    "        self.__stackList = []\n",
    "\n",
    "    def push(self, val):\n",
    "        self.__stackList.append(val)\n",
    "\n",
    "    def pop(self):\n",
    "        val = self.__stackList[-1]\n",
    "        del self.__stackList[-1]\n",
    "        return val\n",
    "\n",
    "\n",
    "class AddingStack(Stack):\n",
    "    def __init__(self):\n",
    "        Stack.__init__(self)\n",
    "        self.__sum = 0\n",
    "\n",
    "    def getSum(self):\n",
    "        return self.__sum\n",
    "\n",
    "    def push(self, val):\n",
    "        self.__sum += val\n",
    "        Stack.push(self, val)\n",
    "\n",
    "    def pop(self):\n",
    "        val = Stack.pop(self)\n",
    "        self.__sum -= val\n",
    "        return val\n",
    "\n",
    "\n",
    "stackObject = AddingStack()\n",
    "\n",
    "for i in range(5):\n",
    "    stackObject.push(i)\n",
    "print(stackObject.getSum())\n",
    "\n",
    "for i in range(5):\n",
    "    print(stackObject.pop())"
   ]
  },
  {
   "cell_type": "markdown",
   "metadata": {},
   "source": [
    "### Multiple Inheritance"
   ]
  },
  {
   "cell_type": "code",
   "execution_count": 24,
   "metadata": {},
   "outputs": [
    {
     "name": "stdout",
     "output_type": "stream",
     "text": [
      "10 11\n",
      "20 21\n"
     ]
    }
   ],
   "source": [
    "class SuperA:\n",
    "    varA = 10\n",
    "    def funA(self):\n",
    "        return 11\n",
    "\n",
    "class SuperB:\n",
    "    varB = 20\n",
    "    def funB(self):\n",
    "        return 21\n",
    "\n",
    "class Sub(SuperA, SuperB):\n",
    "    pass\n",
    "\n",
    "obj = Sub()\n",
    "\n",
    "print(obj.varA, obj.funA())\n",
    "print(obj.varB, obj.funB())"
   ]
  },
  {
   "cell_type": "markdown",
   "metadata": {},
   "source": [
    "### Poymorphism"
   ]
  },
  {
   "cell_type": "code",
   "execution_count": 25,
   "metadata": {},
   "outputs": [],
   "source": [
    "import time\n",
    "\n",
    "class Vehicle:\n",
    "    def changedirection(left, on):  #ini namanya abstract method, kosong saja biar diisi turunannya\n",
    "        pass\n",
    "\n",
    "    def turn(left):\n",
    "        changedirection(left, True)\n",
    "        time.sleep(0.25)\n",
    "        changedirection(left, False)\n",
    "\n",
    "class TrackedVehicle(Vehicle):\n",
    "    def controltrack(left, stop):\n",
    "        pass\n",
    "\n",
    "    def changedirection(left, on):\n",
    "        controltrack(left, on)\n",
    "\n",
    "class WheeledVehicle(Vehicle):\n",
    "    def turnfrontwheels(left, on):\n",
    "        pass\n",
    "\n",
    "    def changedirection(left, on):\n",
    "        turnfrontwheels(left, on)"
   ]
  },
  {
   "cell_type": "markdown",
   "metadata": {},
   "source": [
    "### Has atribut"
   ]
  },
  {
   "cell_type": "code",
   "execution_count": 21,
   "metadata": {},
   "outputs": [
    {
     "name": "stdout",
     "output_type": "stream",
     "text": [
      "True\n",
      "False\n"
     ]
    }
   ],
   "source": [
    "class ExampleClass:\n",
    "    attr = 1\n",
    "\n",
    "print(hasattr(ExampleClass, 'attr'))\n",
    "print(hasattr(ExampleClass, 'prop'))"
   ]
  },
  {
   "cell_type": "markdown",
   "metadata": {},
   "source": [
    "# Exception Once Again\n",
    "\n"
   ]
  },
  {
   "cell_type": "markdown",
   "metadata": {},
   "source": [
    "### Else"
   ]
  },
  {
   "cell_type": "markdown",
   "metadata": {},
   "source": [
    "else menangkap jika try lancar.."
   ]
  },
  {
   "cell_type": "code",
   "execution_count": 38,
   "metadata": {},
   "outputs": [
    {
     "name": "stdout",
     "output_type": "stream",
     "text": [
      "Everything went fine\n",
      "0.5\n",
      "Division failed\n",
      "None\n"
     ]
    }
   ],
   "source": [
    "def reciprocal(n):\n",
    "    try:\n",
    "        n = 1 / n\n",
    "    except ZeroDivisionError:\n",
    "        print(\"Division failed\")\n",
    "        return None\n",
    "    else:\n",
    "        print(\"Everything went fine\")\n",
    "        return n\n",
    "\n",
    "print(reciprocal(2))\n",
    "print(reciprocal(0))"
   ]
  },
  {
   "cell_type": "markdown",
   "metadata": {},
   "source": [
    "### Finally\n",
    "\n",
    "Finaly selalu di eksekusi apapun yang terjadi"
   ]
  },
  {
   "cell_type": "code",
   "execution_count": 39,
   "metadata": {},
   "outputs": [
    {
     "name": "stdout",
     "output_type": "stream",
     "text": [
      "Everything went fine\n",
      "It's time to say goodbye\n",
      "0.5\n",
      "Division failed\n",
      "It's time to say goodbye\n",
      "None\n"
     ]
    }
   ],
   "source": [
    "def reciprocal(n):\n",
    "    try:\n",
    "        n = 1 / n\n",
    "    except ZeroDivisionError:\n",
    "        print(\"Division failed\")\n",
    "        n = None\n",
    "    else:\n",
    "        print(\"Everything went fine\")\n",
    "    finally:\n",
    "        print(\"It's time to say goodbye\")\n",
    "        return n\n",
    "\n",
    "print(reciprocal(2))\n",
    "print(reciprocal(0))"
   ]
  },
  {
   "cell_type": "markdown",
   "metadata": {},
   "source": [
    "### Any Class Exception"
   ]
  },
  {
   "cell_type": "code",
   "execution_count": 26,
   "metadata": {},
   "outputs": [
    {
     "name": "stdout",
     "output_type": "stream",
     "text": [
      "invalid literal for int() with base 10: 'Hello!'\n",
      "invalid literal for int() with base 10: 'Hello!'\n"
     ]
    }
   ],
   "source": [
    "try:\n",
    "    i = int(\"Hello!\")\n",
    "except Exception as e:\n",
    "    print(e)\n",
    "    print(e.__str__())"
   ]
  },
  {
   "cell_type": "markdown",
   "metadata": {},
   "source": [
    "# Generator"
   ]
  },
  {
   "cell_type": "markdown",
   "metadata": {},
   "source": [
    "A Python generator is a piece of specialized code able to produce a series of values, and to control the iteration process. This is why generators are very often called iterators, and although some may find a very subtle distinction between these two, we'll treat them as one."
   ]
  },
  {
   "cell_type": "code",
   "execution_count": null,
   "metadata": {},
   "outputs": [],
   "source": [
    "for i in range(5):\n",
    "    print(i)"
   ]
  },
  {
   "cell_type": "markdown",
   "metadata": {},
   "source": [
    "The range() function is, in fact, a generator, which is (in fact, again) an iterator"
   ]
  },
  {
   "cell_type": "code",
   "execution_count": 28,
   "metadata": {},
   "outputs": [
    {
     "name": "stdout",
     "output_type": "stream",
     "text": [
      "1\n",
      "2\n",
      "3\n"
     ]
    },
    {
     "ename": "TypeError",
     "evalue": "'int' object is not iterable",
     "output_type": "error",
     "traceback": [
      "\u001b[1;31m---------------------------------------------------------------------------\u001b[0m",
      "\u001b[1;31mTypeError\u001b[0m                                 Traceback (most recent call last)",
      "\u001b[1;32m<ipython-input-28-d0d0aee73a1b>\u001b[0m in \u001b[0;36m<module>\u001b[1;34m\u001b[0m\n\u001b[0;32m     17\u001b[0m \u001b[1;32mfor\u001b[0m \u001b[0mvalue\u001b[0m \u001b[1;32min\u001b[0m \u001b[0msimpleGeneratorFun\u001b[0m\u001b[1;33m(\u001b[0m\u001b[1;33m)\u001b[0m\u001b[1;33m:\u001b[0m\u001b[1;33m\u001b[0m\u001b[1;33m\u001b[0m\u001b[0m\n\u001b[0;32m     18\u001b[0m     \u001b[0mprint\u001b[0m\u001b[1;33m(\u001b[0m\u001b[0mvalue\u001b[0m\u001b[1;33m)\u001b[0m\u001b[1;33m\u001b[0m\u001b[1;33m\u001b[0m\u001b[0m\n\u001b[1;32m---> 19\u001b[1;33m \u001b[1;32mfor\u001b[0m \u001b[0mvalues\u001b[0m \u001b[1;32min\u001b[0m \u001b[0mnotGeneratorFun\u001b[0m\u001b[1;33m(\u001b[0m\u001b[1;33m)\u001b[0m\u001b[1;33m:\u001b[0m\u001b[1;33m\u001b[0m\u001b[1;33m\u001b[0m\u001b[0m\n\u001b[0m\u001b[0;32m     20\u001b[0m     \u001b[0mprint\u001b[0m\u001b[1;33m(\u001b[0m\u001b[0mvalue\u001b[0m\u001b[1;33m)\u001b[0m\u001b[1;33m\u001b[0m\u001b[1;33m\u001b[0m\u001b[0m\n",
      "\u001b[1;31mTypeError\u001b[0m: 'int' object is not iterable"
     ]
    }
   ],
   "source": [
    "\n",
    "# A Simple Python program to demonstrate working \n",
    "# of yield \n",
    "  \n",
    "# A generator function that yields 1 for first time, \n",
    "# 2 second time and 3 third time \n",
    "def simpleGeneratorFun(): \n",
    "    yield 1\n",
    "    yield 2\n",
    "    yield 3\n",
    "    \n",
    "def notGeneratorFun(): \n",
    "    return 1\n",
    "    return 2\n",
    "\n",
    "# Driver code to check above generator function \n",
    "for value in simpleGeneratorFun():  \n",
    "    print(value) \n",
    "for values in notGeneratorFun():  \n",
    "    print(value) \n"
   ]
  },
  {
   "cell_type": "code",
   "execution_count": null,
   "metadata": {},
   "outputs": [],
   "source": []
  },
  {
   "cell_type": "markdown",
   "metadata": {},
   "source": [
    "# Processing Files"
   ]
  },
  {
   "cell_type": "code",
   "execution_count": 63,
   "metadata": {},
   "outputs": [
    {
     "name": "stdout",
     "output_type": "stream",
     "text": [
      "Beautiful is better than ugly.\n",
      "Explicit is better than implicit.\n",
      "Simple is better than complex.\n",
      "Complex is better than complicated.\n"
     ]
    }
   ],
   "source": [
    "stream = open(\"sampel.txt\", \"rt\", encoding = \"utf-8\") # opening tzop.txt in read mode, returning it as a file object\n",
    "print(stream.read()) # printing the content of the file"
   ]
  },
  {
   "cell_type": "code",
   "execution_count": 64,
   "metadata": {},
   "outputs": [
    {
     "name": "stdout",
     "output_type": "stream",
     "text": [
      "ini tes\n"
     ]
    }
   ],
   "source": [
    "stream = open(\"D:\\sampel.txt\", \"rt\", encoding = \"utf-8\") # opening tzop.txt in read mode, returning it as a file object\n",
    "print(stream.read()) # printing the content of the file"
   ]
  },
  {
   "cell_type": "markdown",
   "metadata": {},
   "source": [
    "### read()\n",
    "If applied to a text file, the function is able to:\n",
    "\n",
    "    read a desired number of characters (including just one) from the file, and return them as a string;\n",
    "    read all the file contents, and return them as a string;\n",
    "    if there is nothing more to read (the virtual reading head reaches the end of the file), the function returns an empty string.\n"
   ]
  },
  {
   "cell_type": "code",
   "execution_count": 67,
   "metadata": {},
   "outputs": [
    {
     "name": "stdout",
     "output_type": "stream",
     "text": [
      "Beautiful is better than ugly.\n",
      "Explicit is better than implicit.\n",
      "Simple is better than complex.\n",
      "Complex is better than complicated.\n",
      "\n",
      "Characters in file: 131\n"
     ]
    }
   ],
   "source": [
    "from os import strerror\n",
    "\n",
    "try:\n",
    "    cnt = 0\n",
    "    s = open('sampel.txt', \"rt\")\n",
    "    ch = s.read(1)\n",
    "    while ch != '':\n",
    "        print(ch, end='')\n",
    "        cnt += 1\n",
    "        ch = s.read(1)\n",
    "    s.close()\n",
    "    print(\"\\n\\nCharacters in file:\", cnt)\n",
    "except IOError as e:\n",
    "    print(\"I/O error occurred: \", strerr(e.errno))"
   ]
  },
  {
   "cell_type": "markdown",
   "metadata": {},
   "source": [
    "### readline()\n",
    "\n",
    "If you want to treat the file's contents as a set of lines, not a bunch of characters, the readline() method will help you with that.\n",
    "\n",
    "The method tries to read a complete line of text from the file, and returns it as a string in the case of success. Otherwise, it returns an empty string."
   ]
  },
  {
   "cell_type": "code",
   "execution_count": 55,
   "metadata": {},
   "outputs": [
    {
     "name": "stdout",
     "output_type": "stream",
     "text": [
      "Beautiful is better than ugly.\n",
      "Explicit is better than implicit.\n",
      "Simple is better than complex.\n",
      "Complex is better than complicated.\n",
      "\n",
      "Characters in file: 131\n",
      "Lines in file:      4\n"
     ]
    }
   ],
   "source": [
    "from os import strerror\n",
    "\n",
    "try:\n",
    "    ccnt = lcnt = 0\n",
    "    s = open('sampel.txt', 'rt')\n",
    "    line = s.readline()\n",
    "    while line != '':\n",
    "        lcnt += 1\n",
    "        for ch in line:\n",
    "            print(ch, end='')\n",
    "            ccnt += 1\n",
    "        line = s.readline()\n",
    "    s.close()\n",
    "    print(\"\\n\\nCharacters in file:\", ccnt)\n",
    "    print(\"Lines in file:     \", lcnt)\n",
    "except IOError as e:\n",
    "    print(\"I/O error occurred:\", strerr(e.errno))"
   ]
  },
  {
   "cell_type": "markdown",
   "metadata": {},
   "source": [
    "### readlines()\n",
    "Another method, which treats text file as a set of lines, not characters, is readlines().\n",
    "\n",
    "The readlines() method, when invoked without arguments, tries to read all the file contents, and returns a list of strings, one element per file line."
   ]
  },
  {
   "cell_type": "code",
   "execution_count": 38,
   "metadata": {},
   "outputs": [
    {
     "name": "stdout",
     "output_type": "stream",
     "text": [
      "Beautiful is better than ugly.\n",
      "Explicit is better than implicit.\n",
      "Simple is better than complex.\n",
      "Complex is better than complicated.\n",
      "\n",
      "Characters in file: 131\n",
      "Lines in file:      4\n"
     ]
    }
   ],
   "source": [
    "from os import strerror\n",
    "\n",
    "try:\n",
    "    ccnt = lcnt = 0\n",
    "    s = open('sampel.txt', 'rt')\n",
    "    lines = s.readlines(20)\n",
    "    while len(lines) != 0:\n",
    "        for line in lines:\n",
    "            lcnt += 1\n",
    "            for ch in line:\n",
    "                print(ch, end='')\n",
    "                ccnt += 1\n",
    "        lines = s.readlines(10)\n",
    "    s.close()\n",
    "    print(\"\\n\\nCharacters in file:\", ccnt)\n",
    "    print(\"Lines in file:     \", lcnt)\n",
    "except IOError as e:\n",
    "    print(\"I/O error occurred:\", strerr(e.errno))"
   ]
  },
  {
   "cell_type": "code",
   "execution_count": 65,
   "metadata": {},
   "outputs": [],
   "source": [
    "f = open('data.txt','w')\n",
    "f.write('Hello World! \\nHello Again \\n')\n",
    "f.write(\"This is our new text file \\n\") \n",
    "f.write(\"and this is another line \\n\") \n",
    "f.write(\"Why? Because we can\") \n",
    "f.close()"
   ]
  },
  {
   "cell_type": "code",
   "execution_count": 68,
   "metadata": {},
   "outputs": [
    {
     "name": "stdout",
     "output_type": "stream",
     "text": [
      "===\n",
      "HELLO WORLD! \n",
      "\n",
      "===\n",
      "HELLO AGAIN \n",
      "\n",
      "===\n",
      "THIS IS OUR NEW TEXT FILE \n",
      "\n",
      "===\n",
      "AND THIS IS ANOTHER LINE \n",
      "\n",
      "===\n",
      "WHY? BECAUSE WE CAN\n"
     ]
    }
   ],
   "source": [
    "fo = open('data.txt','r')\n",
    "for line in fo:\n",
    "    print(\"===\")\n",
    "    print(line.upper())\n",
    "fo.close()"
   ]
  },
  {
   "cell_type": "markdown",
   "metadata": {},
   "source": [
    "### Pandas\n",
    "Dengan menggunakan sistem dataframe, kita dapat memuat sebuah file ke dalam tabel virtual ala spreadsheet dengan menggunakan Pandas. Dengan menggunakan Pandas, kita dapat mengolah suatu data dan mengolahnya seperti join, distinct, group by, agregasi, dan teknik seperti pada SQL. Hanya saja dilakukan pada tabel yang dimuat dari file ke RAM. Pandas juga dapat membaca file dari berbagai format seperti .txt, .csv, .tsv, dan lainnya. Anggap saja Pandas adalah spreadsheet namun tidak memiliki GUI dan punya fitur seperti SQL.\n",
    "\n",
    "https://pypi.org/project/pandas/"
   ]
  },
  {
   "cell_type": "code",
   "execution_count": 69,
   "metadata": {},
   "outputs": [],
   "source": [
    "import pandas as pd\n"
   ]
  },
  {
   "cell_type": "code",
   "execution_count": 71,
   "metadata": {},
   "outputs": [],
   "source": [
    "data_kekeringan = pd.read_csv('data-bencana-kekeringan-2012-2013.csv', delimiter = ',', encoding = \"ISO-8859-1\")"
   ]
  },
  {
   "cell_type": "code",
   "execution_count": 72,
   "metadata": {},
   "outputs": [
    {
     "data": {
      "text/html": [
       "<div>\n",
       "<style scoped>\n",
       "    .dataframe tbody tr th:only-of-type {\n",
       "        vertical-align: middle;\n",
       "    }\n",
       "\n",
       "    .dataframe tbody tr th {\n",
       "        vertical-align: top;\n",
       "    }\n",
       "\n",
       "    .dataframe thead th {\n",
       "        text-align: right;\n",
       "    }\n",
       "</style>\n",
       "<table border=\"1\" class=\"dataframe\">\n",
       "  <thead>\n",
       "    <tr style=\"text-align: right;\">\n",
       "      <th></th>\n",
       "      <th>No</th>\n",
       "      <th>Bencana</th>\n",
       "      <th>Tanggal</th>\n",
       "      <th>Jam</th>\n",
       "      <th>Bujur</th>\n",
       "      <th>Lintang</th>\n",
       "      <th>Lokasi</th>\n",
       "      <th>Korban</th>\n",
       "      <th>Kerugian</th>\n",
       "      <th>Keterangan</th>\n",
       "    </tr>\n",
       "  </thead>\n",
       "  <tbody>\n",
       "    <tr>\n",
       "      <th>0</th>\n",
       "      <td>1</td>\n",
       "      <td>Kekeringan</td>\n",
       "      <td>9/29/2013</td>\n",
       "      <td>NaN</td>\n",
       "      <td>110.140</td>\n",
       "      <td>-7.15097</td>\n",
       "      <td>Kampung Laut Kawungaten Kedungmangu Gadingreja...</td>\n",
       "      <td>nihil</td>\n",
       "      <td>Â± 800 ha sawah mengalami kekeringan</td>\n",
       "      <td>Kronologis : - Kekeringan terjadi pada akhir A...</td>\n",
       "    </tr>\n",
       "    <tr>\n",
       "      <th>1</th>\n",
       "      <td>2</td>\n",
       "      <td>Kekeringan</td>\n",
       "      <td>9/23/2013</td>\n",
       "      <td>12.30 WIB</td>\n",
       "      <td>106.842</td>\n",
       "      <td>-6.17332</td>\n",
       "      <td>Jl. Krmat III Dalam RT. 06 / 08 Kel. Kwitang K...</td>\n",
       "      <td>nihil</td>\n",
       "      <td>1 rumah terbakar</td>\n",
       "      <td>Kronologis : - Api berasal dari Korsleting aru...</td>\n",
       "    </tr>\n",
       "    <tr>\n",
       "      <th>2</th>\n",
       "      <td>3</td>\n",
       "      <td>Kekeringan</td>\n",
       "      <td>9/23/2013</td>\n",
       "      <td>15:32 WIB</td>\n",
       "      <td>106.845</td>\n",
       "      <td>-6.21154</td>\n",
       "      <td>Jl. Cibubur, Blok Dukuh, No. 6 RT. 02 / 10 Kel...</td>\n",
       "      <td>nihil</td>\n",
       "      <td>1 rumah terbakar</td>\n",
       "      <td>Kronologis : - Api berasal dari Korsleting aru...</td>\n",
       "    </tr>\n",
       "    <tr>\n",
       "      <th>3</th>\n",
       "      <td>4</td>\n",
       "      <td>Kekeringan</td>\n",
       "      <td>9/23/2013</td>\n",
       "      <td>18.25 WIB</td>\n",
       "      <td>106.845</td>\n",
       "      <td>-6.21154</td>\n",
       "      <td>Jl. Kebon Tebu RT. 019 / 17 Kel. Muara Baru Ke...</td>\n",
       "      <td>nihil</td>\n",
       "      <td>50 rumah petakan terbakar</td>\n",
       "      <td>Kronologis : - Api berasal dari Korsleting aru...</td>\n",
       "    </tr>\n",
       "    <tr>\n",
       "      <th>4</th>\n",
       "      <td>5</td>\n",
       "      <td>Kekeringan</td>\n",
       "      <td>9/20/2013</td>\n",
       "      <td>NaN</td>\n",
       "      <td>108.564</td>\n",
       "      <td>-6.71553</td>\n",
       "      <td>Provinsi Jawa Barat Kota Cirebon Kec. Harjamuk...</td>\n",
       "      <td>Sebagian wilayah Kel. Argasunya dan Kel. Kalij...</td>\n",
       "      <td>Dalam Pendataan</td>\n",
       "      <td>Kronologis : - Musim Kemarau Upaya : - Walikot...</td>\n",
       "    </tr>\n",
       "    <tr>\n",
       "      <th>5</th>\n",
       "      <td>6</td>\n",
       "      <td>Kekeringan</td>\n",
       "      <td>9/19/2013</td>\n",
       "      <td>NaN</td>\n",
       "      <td>113.464</td>\n",
       "      <td>-7.16460</td>\n",
       "      <td>Ds. Bujur Barat Ds. Bujur Timur Ds. Ponjanan B...</td>\n",
       "      <td>Nihil</td>\n",
       "      <td>Masih dalam pendataan</td>\n",
       "      <td>*Kronologis : Menurunnya debit sumber mata air...</td>\n",
       "    </tr>\n",
       "    <tr>\n",
       "      <th>6</th>\n",
       "      <td>7</td>\n",
       "      <td>Kekeringan</td>\n",
       "      <td>9/17/2013</td>\n",
       "      <td>07.00 WIB</td>\n",
       "      <td>112.898</td>\n",
       "      <td>-7.64975</td>\n",
       "      <td>Ds. Sruwi Ds. Sumberejo Kec. Winongan Ds. Kara...</td>\n",
       "      <td>Nihil</td>\n",
       "      <td>Dalam proses pendataan</td>\n",
       "      <td>Kondisi Mutakhir: Desa-desa yang terdampak; 1....</td>\n",
       "    </tr>\n",
       "    <tr>\n",
       "      <th>7</th>\n",
       "      <td>8</td>\n",
       "      <td>Kekeringan</td>\n",
       "      <td>9/17/2013</td>\n",
       "      <td>07:00:00 WIB</td>\n",
       "      <td>112.903</td>\n",
       "      <td>-7.64487</td>\n",
       "      <td>Ds. Sruwi Ds. Sumberejo Kec. Winongan Ds. Kara...</td>\n",
       "      <td>Nihil</td>\n",
       "      <td>Dalam proses pendataan</td>\n",
       "      <td>Kondisi Muktahir : Desa-Desa yang terdampak ; ...</td>\n",
       "    </tr>\n",
       "    <tr>\n",
       "      <th>8</th>\n",
       "      <td>9</td>\n",
       "      <td>Kekeringan</td>\n",
       "      <td>9/17/2013</td>\n",
       "      <td>NaN</td>\n",
       "      <td>108.214</td>\n",
       "      <td>-7.32795</td>\n",
       "      <td>Kab. Tasikmalaya, Provinsi Jawa Barat</td>\n",
       "      <td>Masih dalam pendataan</td>\n",
       "      <td>Masih dalam pendataan</td>\n",
       "      <td>Kronologis : - Disebabkan oleh Musim Kemarau U...</td>\n",
       "    </tr>\n",
       "    <tr>\n",
       "      <th>9</th>\n",
       "      <td>10</td>\n",
       "      <td>Kekeringan</td>\n",
       "      <td>9/16/2013</td>\n",
       "      <td>NaN</td>\n",
       "      <td>107.617</td>\n",
       "      <td>-6.81108</td>\n",
       "      <td>Provinsi Jawa Barat Kab. Bandung Barat Kec Lem...</td>\n",
       "      <td>Penduduk di 16 kecamatan terdampak</td>\n",
       "      <td>Dalam proses pendataan</td>\n",
       "      <td>Kronologis : - Musim Kemarau Upaya : - Bupati ...</td>\n",
       "    </tr>\n",
       "    <tr>\n",
       "      <th>10</th>\n",
       "      <td>11</td>\n",
       "      <td>Kekeringan</td>\n",
       "      <td>9/16/2013</td>\n",
       "      <td>NaN</td>\n",
       "      <td>108.350</td>\n",
       "      <td>-7.33333</td>\n",
       "      <td>Provinsi Jawa Barat Kab. Ciamis</td>\n",
       "      <td>Pendataan</td>\n",
       "      <td>Sawah mengalami gagal panen</td>\n",
       "      <td>Kronologis : - Disebabkan oleh Musim Kemarau U...</td>\n",
       "    </tr>\n",
       "    <tr>\n",
       "      <th>11</th>\n",
       "      <td>12</td>\n",
       "      <td>Kekeringan</td>\n",
       "      <td>9/15/2013</td>\n",
       "      <td>NaN</td>\n",
       "      <td>109.657</td>\n",
       "      <td>-7.67868</td>\n",
       "      <td>(83 Desa dalam pendataan) Kec. Kebumen Kec. Ka...</td>\n",
       "      <td>Nihil</td>\n",
       "      <td>Kesulitan mencari air bersih di 16 Kecamatan 8...</td>\n",
       "      <td>*Kronologis: -Sejak pertengahan September samp...</td>\n",
       "    </tr>\n",
       "    <tr>\n",
       "      <th>12</th>\n",
       "      <td>13</td>\n",
       "      <td>Kekeringan</td>\n",
       "      <td>9/9/2013</td>\n",
       "      <td>NaN</td>\n",
       "      <td>107.610</td>\n",
       "      <td>-6.91474</td>\n",
       "      <td>Provinsi Jawa Barat Kab. Bandung Kec. Bojong S...</td>\n",
       "      <td>Penduduk di 23 Kecamatan dan 54 Desa/Kelurahan...</td>\n",
       "      <td>Nihil</td>\n",
       "      <td>Kronologis : - Musim Kemarau Upaya : - Bupati ...</td>\n",
       "    </tr>\n",
       "    <tr>\n",
       "      <th>13</th>\n",
       "      <td>14</td>\n",
       "      <td>Kekeringan</td>\n",
       "      <td>9/5/2013</td>\n",
       "      <td>NaN</td>\n",
       "      <td>113.994</td>\n",
       "      <td>-7.70555</td>\n",
       "      <td>Dsn.Krajan Dsn.Jambaran Dsn.Kembang Sari Timur...</td>\n",
       "      <td>Nihil</td>\n",
       "      <td>Nihil</td>\n",
       "      <td>Kondisi Muktahir: -Jarak lokasi ke kota 20 Kmâ...</td>\n",
       "    </tr>\n",
       "    <tr>\n",
       "      <th>14</th>\n",
       "      <td>15</td>\n",
       "      <td>Kekeringan</td>\n",
       "      <td>9/2/2013</td>\n",
       "      <td>-</td>\n",
       "      <td>106.551</td>\n",
       "      <td>-6.98727</td>\n",
       "      <td>Kec. Tegal Buleud Ds. Calincing Kp. Puncak Sob...</td>\n",
       "      <td>Korban Jiwa/Terdampak :  Ds. Pagelaran 700 KK...</td>\n",
       "      <td>Kerugian Materil :  Di Kec. Jampang Kulon, Ds...</td>\n",
       "      <td>Kronologis : Kekeringan terjadi pada akhir Agu...</td>\n",
       "    </tr>\n",
       "    <tr>\n",
       "      <th>15</th>\n",
       "      <td>16</td>\n",
       "      <td>Kekeringan</td>\n",
       "      <td>9/2/2013</td>\n",
       "      <td>-</td>\n",
       "      <td>112.163</td>\n",
       "      <td>-8.10144</td>\n",
       "      <td>Kec. Nglegok Ds. Sumber Sari Kec. Panggung Rej...</td>\n",
       "      <td>Korban Jiwa : Nihil</td>\n",
       "      <td>Kerugian Materil : Nihil</td>\n",
       "      <td>Dampak Bencana :  Kekuranagn AIR  Tanah Keri...</td>\n",
       "    </tr>\n",
       "    <tr>\n",
       "      <th>16</th>\n",
       "      <td>17</td>\n",
       "      <td>Kekeringan</td>\n",
       "      <td>9/1/2013</td>\n",
       "      <td>NaN</td>\n",
       "      <td>108.840</td>\n",
       "      <td>-6.83133</td>\n",
       "      <td>Ds. Kamal Ds. Pamulihan Kec. Larangan Ds. Peng...</td>\n",
       "      <td>Nihil</td>\n",
       "      <td>Wilayah Timur : 150 Ha sawah kekeringan Wilaya...</td>\n",
       "      <td>Kondisi Mutakhir : Kekeringan terjadi dari bul...</td>\n",
       "    </tr>\n",
       "    <tr>\n",
       "      <th>17</th>\n",
       "      <td>18</td>\n",
       "      <td>Kekeringan</td>\n",
       "      <td>8/31/2013</td>\n",
       "      <td>NaN</td>\n",
       "      <td>110.008</td>\n",
       "      <td>-7.70973</td>\n",
       "      <td>Kec. Bagelen Kec. Purworejo Kec. Gerabak Kec. ...</td>\n",
       "      <td>Nihil</td>\n",
       "      <td>Masih dalam pendataan</td>\n",
       "      <td>Kronologis :Musim kemarau Upaya : - BPBD, Dina...</td>\n",
       "    </tr>\n",
       "    <tr>\n",
       "      <th>18</th>\n",
       "      <td>19</td>\n",
       "      <td>Kekeringan</td>\n",
       "      <td>8/31/2013</td>\n",
       "      <td>NaN</td>\n",
       "      <td>109.547</td>\n",
       "      <td>-7.46168</td>\n",
       "      <td>Ds panerusan kulon Ds Panerusan wetan Ds gumel...</td>\n",
       "      <td>Nihil</td>\n",
       "      <td>-Sawah 304 Ha Kering terancam gagal panen -Lad...</td>\n",
       "      <td>Kronologis : -Jumlah desa yang mengalami rawan...</td>\n",
       "    </tr>\n",
       "    <tr>\n",
       "      <th>19</th>\n",
       "      <td>20</td>\n",
       "      <td>Kekeringan</td>\n",
       "      <td>8/15/2013</td>\n",
       "      <td>NaN</td>\n",
       "      <td>109.642</td>\n",
       "      <td>-7.68377</td>\n",
       "      <td>Kec. Ayah Kec. Buayan Kec. Rowokele Kec. Sempo...</td>\n",
       "      <td>Nihil</td>\n",
       "      <td>Nihil</td>\n",
       "      <td>*Kronologis :Kekeringan disebabkan oleh pola m...</td>\n",
       "    </tr>\n",
       "    <tr>\n",
       "      <th>20</th>\n",
       "      <td>21</td>\n",
       "      <td>Kekeringan</td>\n",
       "      <td>8/24/2012</td>\n",
       "      <td>NaN</td>\n",
       "      <td>114.952</td>\n",
       "      <td>-3.17240</td>\n",
       "      <td>Kec. Simpang Empat, Kab. Banjar, Prov. Kaliman...</td>\n",
       "      <td>2039 KK / 8156 jiwa terdampak</td>\n",
       "      <td>Nihil</td>\n",
       "      <td>- BPBD langsung meninjau lokasi bencana kekeri...</td>\n",
       "    </tr>\n",
       "    <tr>\n",
       "      <th>21</th>\n",
       "      <td>22</td>\n",
       "      <td>Kekeringan</td>\n",
       "      <td>8/1/2012</td>\n",
       "      <td>NaN</td>\n",
       "      <td>113.722</td>\n",
       "      <td>-7.80896</td>\n",
       "      <td>Kab. Probolinggo, Prov. Jawa Timur</td>\n",
       "      <td>104.344 jiwa tersebar di 40 desa dan 12 kecamatan</td>\n",
       "      <td>NaN</td>\n",
       "      <td>- Musim kemarau yang panjang telah menimbulkan...</td>\n",
       "    </tr>\n",
       "    <tr>\n",
       "      <th>22</th>\n",
       "      <td>23</td>\n",
       "      <td>Kekeringan</td>\n",
       "      <td>6/7/2012</td>\n",
       "      <td>NaN</td>\n",
       "      <td>112.960</td>\n",
       "      <td>-7.83601</td>\n",
       "      <td>Kec. Gempol dan Lumbang, Kab. Pasuruan, Prov. ...</td>\n",
       "      <td>11.444 KK / 46.594 Jiwa</td>\n",
       "      <td>NaN</td>\n",
       "      <td>NaN</td>\n",
       "    </tr>\n",
       "  </tbody>\n",
       "</table>\n",
       "</div>"
      ],
      "text/plain": [
       "    No     Bencana    Tanggal           Jam    Bujur   Lintang   \\\n",
       "0     1  Kekeringan  9/29/2013           NaN  110.140  -7.15097   \n",
       "1     2  Kekeringan  9/23/2013     12.30 WIB  106.842  -6.17332   \n",
       "2     3  Kekeringan  9/23/2013     15:32 WIB  106.845  -6.21154   \n",
       "3     4  Kekeringan  9/23/2013     18.25 WIB  106.845  -6.21154   \n",
       "4     5  Kekeringan  9/20/2013           NaN  108.564  -6.71553   \n",
       "5     6  Kekeringan  9/19/2013           NaN  113.464  -7.16460   \n",
       "6     7  Kekeringan  9/17/2013     07.00 WIB  112.898  -7.64975   \n",
       "7     8  Kekeringan  9/17/2013  07:00:00 WIB  112.903  -7.64487   \n",
       "8     9  Kekeringan  9/17/2013           NaN  108.214  -7.32795   \n",
       "9    10  Kekeringan  9/16/2013           NaN  107.617  -6.81108   \n",
       "10   11  Kekeringan  9/16/2013           NaN  108.350  -7.33333   \n",
       "11   12  Kekeringan  9/15/2013           NaN  109.657  -7.67868   \n",
       "12   13  Kekeringan   9/9/2013           NaN  107.610  -6.91474   \n",
       "13   14  Kekeringan   9/5/2013           NaN  113.994  -7.70555   \n",
       "14   15  Kekeringan   9/2/2013             -  106.551  -6.98727   \n",
       "15   16  Kekeringan   9/2/2013             -  112.163  -8.10144   \n",
       "16   17  Kekeringan   9/1/2013           NaN  108.840  -6.83133   \n",
       "17   18  Kekeringan  8/31/2013           NaN  110.008  -7.70973   \n",
       "18   19  Kekeringan  8/31/2013           NaN  109.547  -7.46168   \n",
       "19   20  Kekeringan  8/15/2013           NaN  109.642  -7.68377   \n",
       "20   21  Kekeringan  8/24/2012           NaN  114.952  -3.17240   \n",
       "21   22  Kekeringan   8/1/2012           NaN  113.722  -7.80896   \n",
       "22   23  Kekeringan   6/7/2012           NaN  112.960  -7.83601   \n",
       "\n",
       "                                              Lokasi   \\\n",
       "0   Kampung Laut Kawungaten Kedungmangu Gadingreja...   \n",
       "1   Jl. Krmat III Dalam RT. 06 / 08 Kel. Kwitang K...   \n",
       "2   Jl. Cibubur, Blok Dukuh, No. 6 RT. 02 / 10 Kel...   \n",
       "3   Jl. Kebon Tebu RT. 019 / 17 Kel. Muara Baru Ke...   \n",
       "4   Provinsi Jawa Barat Kota Cirebon Kec. Harjamuk...   \n",
       "5   Ds. Bujur Barat Ds. Bujur Timur Ds. Ponjanan B...   \n",
       "6   Ds. Sruwi Ds. Sumberejo Kec. Winongan Ds. Kara...   \n",
       "7   Ds. Sruwi Ds. Sumberejo Kec. Winongan Ds. Kara...   \n",
       "8               Kab. Tasikmalaya, Provinsi Jawa Barat   \n",
       "9   Provinsi Jawa Barat Kab. Bandung Barat Kec Lem...   \n",
       "10                    Provinsi Jawa Barat Kab. Ciamis   \n",
       "11  (83 Desa dalam pendataan) Kec. Kebumen Kec. Ka...   \n",
       "12  Provinsi Jawa Barat Kab. Bandung Kec. Bojong S...   \n",
       "13  Dsn.Krajan Dsn.Jambaran Dsn.Kembang Sari Timur...   \n",
       "14  Kec. Tegal Buleud Ds. Calincing Kp. Puncak Sob...   \n",
       "15  Kec. Nglegok Ds. Sumber Sari Kec. Panggung Rej...   \n",
       "16  Ds. Kamal Ds. Pamulihan Kec. Larangan Ds. Peng...   \n",
       "17  Kec. Bagelen Kec. Purworejo Kec. Gerabak Kec. ...   \n",
       "18  Ds panerusan kulon Ds Panerusan wetan Ds gumel...   \n",
       "19  Kec. Ayah Kec. Buayan Kec. Rowokele Kec. Sempo...   \n",
       "20  Kec. Simpang Empat, Kab. Banjar, Prov. Kaliman...   \n",
       "21                 Kab. Probolinggo, Prov. Jawa Timur   \n",
       "22  Kec. Gempol dan Lumbang, Kab. Pasuruan, Prov. ...   \n",
       "\n",
       "                                              Korban   \\\n",
       "0                                               nihil   \n",
       "1                                               nihil   \n",
       "2                                               nihil   \n",
       "3                                               nihil   \n",
       "4   Sebagian wilayah Kel. Argasunya dan Kel. Kalij...   \n",
       "5                                               Nihil   \n",
       "6                                               Nihil   \n",
       "7                                               Nihil   \n",
       "8                               Masih dalam pendataan   \n",
       "9                  Penduduk di 16 kecamatan terdampak   \n",
       "10                                          Pendataan   \n",
       "11                                              Nihil   \n",
       "12  Penduduk di 23 Kecamatan dan 54 Desa/Kelurahan...   \n",
       "13                                              Nihil   \n",
       "14  Korban Jiwa/Terdampak :  Ds. Pagelaran 700 KK...   \n",
       "15                                Korban Jiwa : Nihil   \n",
       "16                                              Nihil   \n",
       "17                                              Nihil   \n",
       "18                                              Nihil   \n",
       "19                                              Nihil   \n",
       "20                      2039 KK / 8156 jiwa terdampak   \n",
       "21  104.344 jiwa tersebar di 40 desa dan 12 kecamatan   \n",
       "22                            11.444 KK / 46.594 Jiwa   \n",
       "\n",
       "                                            Kerugian   \\\n",
       "0                Â± 800 ha sawah mengalami kekeringan   \n",
       "1                                    1 rumah terbakar   \n",
       "2                                    1 rumah terbakar   \n",
       "3                           50 rumah petakan terbakar   \n",
       "4                                     Dalam Pendataan   \n",
       "5                               Masih dalam pendataan   \n",
       "6                              Dalam proses pendataan   \n",
       "7                              Dalam proses pendataan   \n",
       "8                               Masih dalam pendataan   \n",
       "9                              Dalam proses pendataan   \n",
       "10                        Sawah mengalami gagal panen   \n",
       "11  Kesulitan mencari air bersih di 16 Kecamatan 8...   \n",
       "12                                              Nihil   \n",
       "13                                              Nihil   \n",
       "14  Kerugian Materil :  Di Kec. Jampang Kulon, Ds...   \n",
       "15                           Kerugian Materil : Nihil   \n",
       "16  Wilayah Timur : 150 Ha sawah kekeringan Wilaya...   \n",
       "17                              Masih dalam pendataan   \n",
       "18  -Sawah 304 Ha Kering terancam gagal panen -Lad...   \n",
       "19                                              Nihil   \n",
       "20                                              Nihil   \n",
       "21                                                NaN   \n",
       "22                                                NaN   \n",
       "\n",
       "                                          Keterangan   \n",
       "0   Kronologis : - Kekeringan terjadi pada akhir A...  \n",
       "1   Kronologis : - Api berasal dari Korsleting aru...  \n",
       "2   Kronologis : - Api berasal dari Korsleting aru...  \n",
       "3   Kronologis : - Api berasal dari Korsleting aru...  \n",
       "4   Kronologis : - Musim Kemarau Upaya : - Walikot...  \n",
       "5   *Kronologis : Menurunnya debit sumber mata air...  \n",
       "6   Kondisi Mutakhir: Desa-desa yang terdampak; 1....  \n",
       "7   Kondisi Muktahir : Desa-Desa yang terdampak ; ...  \n",
       "8   Kronologis : - Disebabkan oleh Musim Kemarau U...  \n",
       "9   Kronologis : - Musim Kemarau Upaya : - Bupati ...  \n",
       "10  Kronologis : - Disebabkan oleh Musim Kemarau U...  \n",
       "11  *Kronologis: -Sejak pertengahan September samp...  \n",
       "12  Kronologis : - Musim Kemarau Upaya : - Bupati ...  \n",
       "13  Kondisi Muktahir: -Jarak lokasi ke kota 20 Kmâ...  \n",
       "14  Kronologis : Kekeringan terjadi pada akhir Agu...  \n",
       "15  Dampak Bencana :  Kekuranagn AIR  Tanah Keri...  \n",
       "16  Kondisi Mutakhir : Kekeringan terjadi dari bul...  \n",
       "17  Kronologis :Musim kemarau Upaya : - BPBD, Dina...  \n",
       "18  Kronologis : -Jumlah desa yang mengalami rawan...  \n",
       "19  *Kronologis :Kekeringan disebabkan oleh pola m...  \n",
       "20  - BPBD langsung meninjau lokasi bencana kekeri...  \n",
       "21  - Musim kemarau yang panjang telah menimbulkan...  \n",
       "22                                                NaN  "
      ]
     },
     "execution_count": 72,
     "metadata": {},
     "output_type": "execute_result"
    }
   ],
   "source": [
    "data_kekeringan"
   ]
  },
  {
   "cell_type": "markdown",
   "metadata": {},
   "source": [
    "# shorturl.at/qwHSV"
   ]
  },
  {
   "cell_type": "code",
   "execution_count": null,
   "metadata": {},
   "outputs": [],
   "source": []
  }
 ],
 "metadata": {
  "kernelspec": {
   "display_name": "Python 3",
   "language": "python",
   "name": "python3"
  },
  "language_info": {
   "codemirror_mode": {
    "name": "ipython",
    "version": 3
   },
   "file_extension": ".py",
   "mimetype": "text/x-python",
   "name": "python",
   "nbconvert_exporter": "python",
   "pygments_lexer": "ipython3",
   "version": "3.7.3"
  }
 },
 "nbformat": 4,
 "nbformat_minor": 2
}
